{
 "cells": [
  {
   "cell_type": "markdown",
   "metadata": {},
   "source": [
    "## ⛏️ Sub-Phase 1 : Backward Taint Analysis for Data Flow Pairs Extraction"
   ]
  },
  {
   "cell_type": "code",
   "execution_count": null,
   "metadata": {},
   "outputs": [],
   "source": [
    "# Imports\n",
    "from   dotenv   import load_dotenv\n",
    "import pandas   as pd\n",
    "import datetime\n",
    "import sys\n",
    "import os\n",
    "\n",
    "# Add the upper folder to sys.path\n",
    "sys.path.insert(0, \"../\")\n",
    "from   RedisClient import RedisClient\n",
    "from   App         import App"
   ]
  },
  {
   "cell_type": "markdown",
   "metadata": {},
   "source": [
    "#### Parameters"
   ]
  },
  {
   "cell_type": "code",
   "execution_count": null,
   "metadata": {},
   "outputs": [],
   "source": [
    "# TMP Folder\n",
    "TMP_PATH = \"../../../../0_Data/TMP/\""
   ]
  },
  {
   "cell_type": "markdown",
   "metadata": {},
   "source": [
    "#### Initialization"
   ]
  },
  {
   "cell_type": "code",
   "execution_count": null,
   "metadata": {},
   "outputs": [],
   "source": [
    "print(\"⚡ Start - {} ⚡\\n\".format(datetime.datetime.now()))\n",
    "startTime = datetime.datetime.now()"
   ]
  },
  {
   "cell_type": "code",
   "execution_count": null,
   "metadata": {},
   "outputs": [],
   "source": [
    "# Create TMP Folder\n",
    "if not os.path.exists(TMP_PATH):\n",
    "\tos.makedirs(TMP_PATH)\n",
    "\tprint(\"📁🆕 Folder created       :\", TMP_PATH)\n",
    "else:\n",
    "\tprint(\"📁✅ Folder already exists:\", TMP_PATH)"
   ]
  },
  {
   "cell_type": "markdown",
   "metadata": {},
   "source": [
    "#### 📥 1) Read Data and Push to Redis"
   ]
  },
  {
   "cell_type": "code",
   "execution_count": null,
   "metadata": {},
   "outputs": [],
   "source": [
    "REDIS_PREFIX = \"test\""
   ]
  },
  {
   "cell_type": "code",
   "execution_count": null,
   "metadata": {},
   "outputs": [],
   "source": [
    "#DATASET = \"malicious\"\n",
    "DATASET = \"androcatset\"\n",
    "\n",
    "DIRECTION = \"forward\"\n",
    "#DIRECTION = \"backward\"\n",
    "\n",
    "SOURCES_APPROACH = \"docflow\"\n",
    "#SOURCES_APPROACH = \"nosources\"\n",
    "\n",
    "redisProjectKey = REDIS_PREFIX + \".{}.{}.{}\".format(DATASET, DIRECTION, SOURCES_APPROACH)\n",
    "print(\"--- 🔑 Redis Key: \", redisProjectKey)"
   ]
  },
  {
   "cell_type": "markdown",
   "metadata": {},
   "source": [
    "#### 📡 Redis connection"
   ]
  },
  {
   "cell_type": "markdown",
   "metadata": {},
   "source": [
    "You can use this cell to check the current status of the extraction. You may have to launch the extraction multiple times until you have the success list containing all the analyzes apps."
   ]
  },
  {
   "cell_type": "code",
   "execution_count": null,
   "metadata": {},
   "outputs": [],
   "source": [
    "load_dotenv()\n",
    "redisClientExtraction = RedisClient(host=os.getenv(\"REDIS_SERVER\"), \n",
    "\t\t\t\t\t\t\t\t\tport=os.getenv(\"REDIS_PORT\"), \n",
    "\t\t\t\t\t\t\t\t\tdb=os.getenv(\"REDIS_DB\"), \n",
    "\t\t\t\t\t\t\t\t\tpassword=os.getenv(\"REDIS_PSW\"), \n",
    "\t\t\t\t\t\t\t\t\tprojectKey = redisProjectKey)\n",
    "\n",
    "redisClientExtraction.printStatus()"
   ]
  },
  {
   "cell_type": "code",
   "execution_count": null,
   "metadata": {},
   "outputs": [],
   "source": [
    "# Paths\n",
    "INPUT_PATH   = \"../../../0_Data/0_AndroCatSet.csv\"\n",
    "#INPUT_PATH   = \"../../../0_Data/1_AndroCatSet_Mini.csv\"\n",
    "#INPUT_PATH   = \"../../../0_Data/3_MaliciousApps.csv\"\n",
    "\n",
    "# Read the data\n",
    "appsDF = pd.read_csv(INPUT_PATH)\n",
    "print(\"--- #️⃣ Apps: {} \".format(appsDF.shape[0]))\n",
    "\n",
    "# TEST\n",
    "appsDF = appsDF.head(3)\n",
    "appsDF"
   ]
  },
  {
   "cell_type": "code",
   "execution_count": null,
   "metadata": {},
   "outputs": [],
   "source": [
    "#To push\n",
    "redisClientExtraction.loadPopList(list(appsDF['sha256'].values))"
   ]
  },
  {
   "cell_type": "markdown",
   "metadata": {},
   "source": [
    "#### 🔁 Extraction Loop Execution: Pop from Redis and extract, then push results back."
   ]
  },
  {
   "cell_type": "code",
   "execution_count": null,
   "metadata": {},
   "outputs": [],
   "source": [
    "# Path to Android Platforms\n",
    "load_dotenv()\n",
    "ANDROID_PATH = os.getenv(\"ANDROID_PATH\")"
   ]
  },
  {
   "cell_type": "code",
   "execution_count": null,
   "metadata": {},
   "outputs": [],
   "source": [
    "# Path to the Java Script used for Data Flows Extaction\n",
    "JAVA_EXTRACTOR_PATH = \"../../1_Java/damflow_extractor/target/damflow_extractor-1.0-jar-with-dependencies.jar\"\n",
    "\n",
    "# Timeout for Data Flow Analysis\n",
    "TIMEOUT = 7200"
   ]
  },
  {
   "cell_type": "code",
   "execution_count": null,
   "metadata": {},
   "outputs": [],
   "source": [
    "# Pop from Redis popList\n",
    "while (sha256 := redisClientExtraction.client.rpop(redisClientExtraction.popKey) ) is not None:\n",
    "\n",
    "\t# Get sha256\n",
    "\tsha256 = sha256.decode(\"utf-8\") \n",
    "\tprint(\"==\"*40+\"\\n\")\n",
    "\tprint(\"🔑 Analyzing APK: {}\".format(sha256))\n",
    "\n",
    "\t  # Skip if already processed\n",
    "\tif redisClientExtraction.client.hget(redisClientExtraction.resultsKey, sha256) is not None:\n",
    "\t\tprint(\"\\n⏭️  Already Processed --> Skip\")\n",
    "\t\tcontinue\n",
    "   \n",
    "\t# Launch Difuzer\n",
    "\ttry:\n",
    "\t\t# Create App instance\n",
    "\t\tapp = App(sha256 = sha256)\n",
    "\n",
    "\t\t# Extract data flows\n",
    "\t\tapp.extractDataFlows(TMP_PATH, JAVA_EXTRACTOR_PATH, ANDROID_PATH, DIRECTION, SOURCES_APPROACH, TIMEOUT)\n",
    "\n",
    "\t\t# Convert to JSON\n",
    "\t\tjsonString = app.dataFlows.toJsonString()\n",
    "\n",
    "\t\t# Store results into Redis\n",
    "\t\tredisClientExtraction.client.hset(redisClientExtraction.resultsKey, sha256, jsonString)\n",
    "\t\tprint(\"\\n✅ Success for APK: {}\".format(sha256), flush=True)\n",
    "\t\t\n",
    "\t# Print exception and store into errorList\n",
    "\texcept Exception as e:\n",
    "\t\tprint(\"\\n❌  Failed with Exception {}\".format(e), flush=True)\n",
    "\t\tredisClientExtraction.client.lpush(redisClientExtraction.errorKey, sha256)\n",
    "\tprint(\"==\"*40+\"\\n\")"
   ]
  }
 ],
 "metadata": {
  "kernelspec": {
   "display_name": "Python 3",
   "language": "python",
   "name": "python3"
  },
  "language_info": {
   "codemirror_mode": {
    "name": "ipython",
    "version": 3
   },
   "file_extension": ".py",
   "mimetype": "text/x-python",
   "name": "python",
   "nbconvert_exporter": "python",
   "pygments_lexer": "ipython3",
   "version": "3.11.3"
  }
 },
 "nbformat": 4,
 "nbformat_minor": 2
}
