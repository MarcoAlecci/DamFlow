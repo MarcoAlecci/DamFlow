{
 "cells": [
  {
   "cell_type": "markdown",
   "metadata": {},
   "source": [
    "## 🔢 Sub Phase 2: Embedding"
   ]
  },
  {
   "cell_type": "code",
   "execution_count": null,
   "metadata": {},
   "outputs": [],
   "source": [
    "# Imports\n",
    "from   dotenv   import load_dotenv\n",
    "import pandas   as pd\n",
    "import datetime\n",
    "import sys\n",
    "import os\n",
    "\n",
    "# Add the upper folder to sys.path\n",
    "sys.path.insert(0, \"../\")\n",
    "from   Embedding   import EmbeddingsManager\n",
    "from   RedisClient import RedisClient\n",
    "from   App         import App"
   ]
  },
  {
   "cell_type": "markdown",
   "metadata": {},
   "source": [
    "#### Parameters"
   ]
  },
  {
   "cell_type": "code",
   "execution_count": null,
   "metadata": {},
   "outputs": [],
   "source": [
    "# TMP Folder\n",
    "TMP_PATH = \"../../../0_Data/TMP/\""
   ]
  },
  {
   "cell_type": "markdown",
   "metadata": {},
   "source": [
    "#### Initialization"
   ]
  },
  {
   "cell_type": "code",
   "execution_count": null,
   "metadata": {},
   "outputs": [],
   "source": [
    "print(\"⚡ Start - {} ⚡\\n\".format(datetime.datetime.now()))\n",
    "startTime = datetime.datetime.now()"
   ]
  },
  {
   "cell_type": "code",
   "execution_count": null,
   "metadata": {},
   "outputs": [],
   "source": [
    "# Create TMP Folder\n",
    "if not os.path.exists(TMP_PATH):\n",
    "\tos.makedirs(TMP_PATH)\n",
    "\tprint(\"📁🆕 Folder created       :\", TMP_PATH)\n",
    "else:\n",
    "\tprint(\"📁✅ Folder already exists:\", TMP_PATH)"
   ]
  },
  {
   "cell_type": "markdown",
   "metadata": {},
   "source": [
    "#### 📥 1) Load Data "
   ]
  },
  {
   "cell_type": "code",
   "execution_count": null,
   "metadata": {},
   "outputs": [],
   "source": [
    "REDIS_PREFIX = \"test\""
   ]
  },
  {
   "cell_type": "code",
   "execution_count": null,
   "metadata": {},
   "outputs": [],
   "source": [
    "#DATASET = \"malicious\"\n",
    "DATASET = \"androcatset\"\n",
    "\n",
    "DIRECTION        = \"backward\"\n",
    "SOURCES_APPROACH = \"nosources\"\n",
    "\n",
    "redisProjectKey = REDIS_PREFIX + \".{}.{}.{}\".format(DATASET, DIRECTION, SOURCES_APPROACH)\n",
    "print(\"--- 🔑 Redis Key: \", redisProjectKey)"
   ]
  },
  {
   "cell_type": "markdown",
   "metadata": {},
   "source": [
    "📡 Redis Connection"
   ]
  },
  {
   "cell_type": "code",
   "execution_count": null,
   "metadata": {},
   "outputs": [],
   "source": [
    "# Load .env file\n",
    "load_dotenv()\n",
    "redisClientExtraction = RedisClient(host=os.getenv(\"REDIS_SERVER\"), \n",
    "                                    port=os.getenv(\"REDIS_PORT\"), \n",
    "                                    db=os.getenv(\"REDIS_DB\"), \n",
    "                                    password=os.getenv(\"REDIS_PSW\"), \n",
    "                                    projectKey = redisProjectKey)"
   ]
  },
  {
   "cell_type": "code",
   "execution_count": null,
   "metadata": {},
   "outputs": [],
   "source": [
    "# Paths\n",
    "#INPUT_PATH   = \"../../../0_Data/0_AndroCatSet.csv\"\n",
    "INPUT_PATH   = \"../../../0_Data/1_AndroCatSet_Mini.csv\"\n",
    "#INPUT_PATH   = \"../../../0_Data/3_MaliciousApps.csv\"\n",
    "\n",
    "# Read the data\n",
    "appsDF = pd.read_csv(INPUT_PATH)\n",
    "print(\"--- #️⃣ Apps: {} \".format(appsDF.shape[0]))\n",
    "\n",
    "# TEST\n",
    "#appsDF = appsDF.head(1)\n",
    "appsDF.head(5)"
   ]
  },
  {
   "cell_type": "markdown",
   "metadata": {},
   "source": [
    "#### 🔢 2) Load Apps and Generate Numerical Embeddings"
   ]
  },
  {
   "cell_type": "code",
   "execution_count": null,
   "metadata": {},
   "outputs": [],
   "source": [
    "# Where to store mebeddings\n",
    "redisClientEmbedding  = RedisClient(host=os.getenv(\"REDIS_SERVER\"), \n",
    "\t\t\t\t\t\t\t\t\tport=os.getenv(\"REDIS_PORT\"), \n",
    "\t\t\t\t\t\t\t\t\tdb=os.getenv(\"REDIS_DB\"), \n",
    "\t\t\t\t\t\t\t\t\tpassword=os.getenv(\"REDIS_PSW\"), \n",
    "\t\t\t\t\t\t\t\t\tprojectKey = REDIS_PREFIX + \".embeddings\")"
   ]
  },
  {
   "cell_type": "code",
   "execution_count": null,
   "metadata": {},
   "outputs": [],
   "source": [
    "EMBEDDING_MODEL = \"gpt\"\n",
    "#EMBEDDING_MODEL = \"codebert\"\n",
    "#EMBEDDING_MODEL = \"sfr\"\n",
    "\n",
    "# Create an Embedding Manager\n",
    "embeddingsManager = EmbeddingsManager(redisClientEmbedding, EMBEDDING_MODEL)\n",
    "print(embeddingsManager)"
   ]
  },
  {
   "cell_type": "code",
   "execution_count": null,
   "metadata": {},
   "outputs": [],
   "source": [
    "def processRow(row):\n",
    "\t\t# Print message \n",
    "\t\tprint(\"\\n--- 🔑 Analyzing APK: {} 🔑 ---\".format(row['sha256']))\n",
    "\n",
    "\t\t# Create App instance\n",
    "\t\tapp = App(row['sha256'], row['pkgName'], row['classID'])\n",
    "\n",
    "\t\t# Download Data Flows from Redis\n",
    "\t\tapp.downloadDataFlowsFromRedis(redisClientExtraction)\n",
    "\t\t\n",
    "\t\t# Check if dataFlows have been extracted and are not empty.\n",
    "\t\tif(app.dataFlows is not None and not app.dataFlows.isEmpty()):\n",
    "\n",
    "\t\t\t\t# Load DataFlows into Embeddings Manager\n",
    "\t\t\t\tembeddingsManager.loadDataFlowsFromApp(app.dataFlows)\n",
    "\n",
    "# Apply the function to each row in the DataFrame\n",
    "_ = appsDF.apply(processRow, axis=1)"
   ]
  },
  {
   "cell_type": "code",
   "execution_count": null,
   "metadata": {},
   "outputs": [],
   "source": [
    "print(embeddingsManager)\n",
    "embeddingsManager.generateMethodsEmbeddings(redisClientEmbedding, EMBEDDING_MODEL)\n",
    "print(embeddingsManager)"
   ]
  },
  {
   "cell_type": "markdown",
   "metadata": {},
   "source": [
    "##### 🔚 End"
   ]
  },
  {
   "cell_type": "code",
   "execution_count": null,
   "metadata": {},
   "outputs": [],
   "source": [
    "endTime = datetime.datetime.now()\n",
    "print(\"\\n🔚 --- End - {} --- 🔚\".format(endTime))\n",
    "\n",
    "# Assuming endTime and startTime are in seconds\n",
    "totalTime = endTime - startTime\n",
    "minutes = totalTime.total_seconds() // 60\n",
    "seconds = totalTime.total_seconds() % 60\n",
    "print(\"⏱️ --- Time: {:02d} minutes and {:02d} seconds --- ⏱️\".format(int(minutes), int(seconds)))"
   ]
  }
 ],
 "metadata": {
  "kernelspec": {
   "display_name": "Python 3",
   "language": "python",
   "name": "python3"
  },
  "language_info": {
   "codemirror_mode": {
    "name": "ipython",
    "version": 3
   },
   "file_extension": ".py",
   "mimetype": "text/x-python",
   "name": "python",
   "nbconvert_exporter": "python",
   "pygments_lexer": "ipython3",
   "version": "3.9.19"
  }
 },
 "nbformat": 4,
 "nbformat_minor": 2
}
