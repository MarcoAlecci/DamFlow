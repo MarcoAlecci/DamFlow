{
 "cells": [
  {
   "cell_type": "markdown",
   "metadata": {},
   "source": [
    "## 🧪 Application Phase : Anomaly Detection "
   ]
  },
  {
   "cell_type": "code",
   "execution_count": null,
   "metadata": {},
   "outputs": [],
   "source": [
    "# Imports\n",
    "from   dotenv   import load_dotenv\n",
    "import pandas   as pd\n",
    "import datetime\n",
    "import sys\n",
    "import os\n",
    "\n",
    "# Add the upper folder to sys.path\n",
    "sys.path.insert(0, \"../\")\n",
    "from   Testing     import TestingManager, AnomalyDetectionResults\n",
    "from   RedisClient import RedisClient\n",
    "from   App         import App"
   ]
  },
  {
   "cell_type": "markdown",
   "metadata": {},
   "source": [
    "#### Parameters"
   ]
  },
  {
   "cell_type": "code",
   "execution_count": null,
   "metadata": {},
   "outputs": [],
   "source": [
    "# TMP Folder\n",
    "TMP_PATH    = \"../../../0_Data/TMP/\""
   ]
  },
  {
   "cell_type": "markdown",
   "metadata": {},
   "source": [
    "#### Initialization"
   ]
  },
  {
   "cell_type": "code",
   "execution_count": null,
   "metadata": {},
   "outputs": [],
   "source": [
    "print(\"⚡ Start - {} ⚡\\n\".format(datetime.datetime.now()))\n",
    "startTime = datetime.datetime.now()"
   ]
  },
  {
   "cell_type": "code",
   "execution_count": null,
   "metadata": {},
   "outputs": [],
   "source": [
    "# Create TMP Folder\n",
    "if not os.path.exists(TMP_PATH):\n",
    "\tos.makedirs(TMP_PATH)\n",
    "\tprint(\"📁🆕 Folder created       : {}\\n\".format(TMP_PATH))\n",
    "else:\n",
    "\tprint(\"📁✅ Folder already exists: {}\\n\".format(TMP_PATH))"
   ]
  },
  {
   "cell_type": "markdown",
   "metadata": {},
   "source": [
    "#### 📥 1) Load Data "
   ]
  },
  {
   "cell_type": "code",
   "execution_count": null,
   "metadata": {},
   "outputs": [],
   "source": [
    "REDIS_PREFIX = \"test\""
   ]
  },
  {
   "cell_type": "code",
   "execution_count": null,
   "metadata": {},
   "outputs": [],
   "source": [
    "DATASET          = \"androcatset\"\n",
    "DIRECTION        = \"backward\"\n",
    "SOURCES_APPROACH = \"nosources\"\n",
    "\n",
    "redisProjectKey = REDIS_PREFIX + \".{}.{}.{}\".format(DATASET, DIRECTION, SOURCES_APPROACH)\n",
    "print(\"--- 🔑 Redis Key: \", redisProjectKey)"
   ]
  },
  {
   "cell_type": "markdown",
   "metadata": {},
   "source": [
    "📡 Redis Connection"
   ]
  },
  {
   "cell_type": "code",
   "execution_count": null,
   "metadata": {},
   "outputs": [],
   "source": [
    "# Load .env file\n",
    "load_dotenv()\n",
    "redisClientExtraction = RedisClient(host=os.getenv(\"REDIS_SERVER\"), \n",
    "\t\t\t\t\t\t\t\t\tport=os.getenv(\"REDIS_PORT\"), \n",
    "\t\t\t\t\t\t\t\t\tdb=os.getenv(\"REDIS_DB\"), \n",
    "\t\t\t\t\t\t\t\t\tpassword=os.getenv(\"REDIS_PSW\"), \n",
    "\t\t\t\t\t\t\t\t\tprojectKey = redisProjectKey)"
   ]
  },
  {
   "cell_type": "code",
   "execution_count": null,
   "metadata": {},
   "outputs": [],
   "source": [
    "# Paths\n",
    "INPUT_PATH   = \"../../../0_Data/2_AndroCatSet_TrainingSet.csv\"\n",
    "INPUT_PATH   = \"../../../0_Data/1_AndroCatSet_Mini.csv\"\n",
    "# Read the data\n",
    "appsDF = pd.read_csv(INPUT_PATH)\n",
    "print(\"--- #️⃣ Apps: {} \".format(appsDF.shape[0]))\n",
    "\n",
    "# TEST\n",
    "appsDF.head(5)"
   ]
  },
  {
   "cell_type": "markdown",
   "metadata": {},
   "source": [
    "#### 🏷️ 2) Load Data Flows Embeddings and Test the model."
   ]
  },
  {
   "cell_type": "code",
   "execution_count": null,
   "metadata": {},
   "outputs": [],
   "source": [
    "# Where embeddingsa are stores\n",
    "redisClientEmbedding  = RedisClient(host=os.getenv(\"REDIS_SERVER\"), \n",
    "\t\t\t\t\t\t\t\t\tport=os.getenv(\"REDIS_PORT\"), \n",
    "\t\t\t\t\t\t\t\t\tdb=os.getenv(\"REDIS_DB\"), \n",
    "\t\t\t\t\t\t\t\t\tpassword=os.getenv(\"REDIS_PSW\"), \n",
    "\t\t\t\t\t\t\t\t\tprojectKey = REDIS_PREFIX + \".embeddings\")"
   ]
  },
  {
   "cell_type": "code",
   "execution_count": null,
   "metadata": {},
   "outputs": [],
   "source": [
    "EMBEDDING_MODEL = \"gpt\"\n",
    "#EMBEDDING_MODEL = \"codebert\"\n",
    "#EMBEDDING_MODEL = \"sfr\""
   ]
  },
  {
   "cell_type": "code",
   "execution_count": null,
   "metadata": {},
   "outputs": [],
   "source": [
    "# Model Folder --> Where they are saved\n",
    "MODELS_PATH = \"../../../0_Data/MODELS/\"\n",
    "\n",
    "# Results Folder --> Where to save results\n",
    "RESULTS_PATH = \"../../../0_Data/RESULTS/{}/\".format(DATASET) \n",
    "resultsPath = RESULTS_PATH + \"{}.json\".format(EMBEDDING_MODEL)\n",
    "\n",
    "# Delete the resultsPath file if it already exists\n",
    "if os.path.isfile(resultsPath):\n",
    "\tos.remove(resultsPath)\n",
    "\tprint(f\"\\n--- 🗑️ Results File Already Exist \\n--- 🗑️ Deleting: {resultsPath}\")"
   ]
  },
  {
   "cell_type": "code",
   "execution_count": null,
   "metadata": {},
   "outputs": [],
   "source": [
    "# Group by category\n",
    "groupedDF = appsDF.groupby('classID')\n",
    "\n",
    "for categoryID, categoryDF in groupedDF:\n",
    "\tprint(\"\\n🏷️ --- Category ID: {} --- 🏷️\".format(categoryID))\n",
    "\tprint(\"--- #️⃣ Num. of apps: {}\".format(categoryDF.shape[0]))\n",
    "\n",
    "\t# Testing Manager \n",
    "\tmodelPath      = MODELS_PATH + \"{}/{}.joblib\".format(categoryID, EMBEDDING_MODEL)\n",
    "\ttestingManager = TestingManager(modelPath, resultsPath, EMBEDDING_MODEL)\n",
    "\tprint(testingManager)\n",
    "\n",
    "\tdef processRow(row):\n",
    "\t\t# Print message \n",
    "\t\tprint(\"\\n--- 🔑 Analyzing APK: {} 🔑 ---\".format(row['sha256']))\n",
    "\n",
    "\t\t# Create App instance\n",
    "\t\tapp = App(row['sha256'], row['pkgName'], row['classID'])\n",
    "\n",
    "\t\t# Get Data Flows From Redis\n",
    "\t\tapp.downloadDataFlowsFromRedis(redisClient = redisClientExtraction, forTraining = False, forTesting=True) \n",
    "\n",
    "\t\t#Check if dataFlows have been extracted and are not empty.\n",
    "\t\tif(app.dataFlows is not None and not app.dataFlows.isEmpty()):\n",
    "\t\t\t\n",
    "\t\t\tprint(\"--- ⚙️ Embedding Model  : {}\".format(EMBEDDING_MODEL))\t\n",
    "\t\t\tapp.downloadPairsEmbeddingsFromRedis(redisClientEmbedding, EMBEDDING_MODEL)\n",
    "\n",
    "\t\t\t# Test the app\n",
    "\t\t\ttry:\n",
    "\t\t\t\ttestingManager.testingAnomalyDetectionModel(app) \n",
    "\t\t\texcept Exception as e:\n",
    "\t\t\t\tprint(e)\n",
    "\t\t\t# # Print the results\n",
    "\t\t\tif not testingManager.results.isNone(): \n",
    "\t\t\t\tprint(testingManager.results) \n",
    "\t\t\telse:\n",
    "\t\t\t\tprint(\"--- ❌ Results Unavailaible\")\n",
    "\t\t\t\n",
    "\t\t# Save the results\n",
    "\t\ttestingManager.saveResults(app) \n",
    "\n",
    "\t\t# Reset Results\n",
    "\t\ttestingManager.results = AnomalyDetectionResults(None, None) \n",
    "\n",
    "\t# Apply the function to each row in the DataFrame\n",
    "\t_ = categoryDF.apply(processRow, axis=1) \n",
    "\n",
    "\tprint(\"\\n\\n\" + \"++++\"*40 + \"\\n\\n\")"
   ]
  },
  {
   "cell_type": "markdown",
   "metadata": {},
   "source": [
    "##### 🔚 End"
   ]
  },
  {
   "cell_type": "code",
   "execution_count": null,
   "metadata": {},
   "outputs": [],
   "source": [
    "endTime = datetime.datetime.now()\n",
    "print(\"\\n🔚 --- End - {} --- 🔚\".format(endTime))\n",
    "\n",
    "# Assuming endTime and startTime are in seconds\n",
    "totalTime = endTime - startTime\n",
    "minutes = totalTime.total_seconds() // 60\n",
    "seconds = totalTime.total_seconds() % 60\n",
    "print(\"⏱️ --- Time: {:02d} minutes and {:02d} seconds --- ⏱️\".format(int(minutes), int(seconds)))"
   ]
  }
 ],
 "metadata": {
  "kernelspec": {
   "display_name": "Python 3",
   "language": "python",
   "name": "python3"
  },
  "language_info": {
   "codemirror_mode": {
    "name": "ipython",
    "version": 3
   },
   "file_extension": ".py",
   "mimetype": "text/x-python",
   "name": "python",
   "nbconvert_exporter": "python",
   "pygments_lexer": "ipython3",
   "version": "3.9.19"
  }
 },
 "nbformat": 4,
 "nbformat_minor": 2
}
